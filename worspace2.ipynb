{
 "cells": [
  {
   "cell_type": "code",
   "execution_count": 1,
   "metadata": {},
   "outputs": [],
   "source": [
    "import torch\n",
    "import torch.nn as nn\n",
    "\n",
    "from gesture_dataloader import get_dataloader"
   ]
  },
  {
   "cell_type": "code",
   "execution_count": 2,
   "metadata": {},
   "outputs": [],
   "source": [
    "path = r\"dataset\""
   ]
  },
  {
   "cell_type": "code",
   "execution_count": 3,
   "metadata": {},
   "outputs": [],
   "source": [
    "dataloader = get_dataloader(path, batch_size=1, shuffle=True)"
   ]
  },
  {
   "cell_type": "code",
   "execution_count": 4,
   "metadata": {},
   "outputs": [],
   "source": [
    "# # dataloader.dataset[0]\n",
    "\n",
    "# # loop through the dataset\n",
    "# for i in range(len(dataloader.dataset)):\n",
    "#     traj, label = dataloader.dataset[i]\n",
    "#     print(traj.shape, label)\n",
    "#     print(traj)\n",
    "    \n",
    "#     if i == 5:\n",
    "#         break\n",
    "    \n",
    "#     # print(dataloader.dataset[i])\n"
   ]
  },
  {
   "cell_type": "code",
   "execution_count": 5,
   "metadata": {},
   "outputs": [],
   "source": [
    "class ThreeLayerMLP(nn.Module):\n",
    "    def __init__(self, input_size=147, hidden1_size=256, hidden2_size=128, num_classes=10):\n",
    "        super(ThreeLayerMLP, self).__init__()\n",
    "        # First fully connected layer: from input to first hidden layer\n",
    "        self.fc1 = nn.Linear(input_size, hidden1_size)\n",
    "        # Second fully connected layer: from first hidden layer to second hidden layer\n",
    "        self.fc2 = nn.Linear(hidden1_size, hidden2_size)\n",
    "        # Third fully connected layer: from second hidden layer to output layer\n",
    "        self.fc3 = nn.Linear(hidden2_size, num_classes)\n",
    "        # Activation function\n",
    "        self.relu = nn.ReLU()\n",
    "    \n",
    "    def forward(self, x):\n",
    "        # Pass the input through the first layer and apply ReLU\n",
    "        x = self.relu(self.fc1(x))\n",
    "        # Pass the result through the second layer and apply ReLU\n",
    "        x = self.relu(self.fc2(x))\n",
    "        # Pass through the final layer (logits output)\n",
    "        x = self.fc3(x)\n",
    "        return x"
   ]
  },
  {
   "cell_type": "code",
   "execution_count": 6,
   "metadata": {},
   "outputs": [],
   "source": [
    "# def pass_sample_through_model(model, sample):\n",
    "#     # Convert the sample to a PyTorch tensor\n",
    "#     sample_tensor = torch.tensor(sample, dtype=torch.float32)\n",
    "#     # Add a batch dimension\n",
    "#     sample_tensor = sample_tensor.unsqueeze(0)\n",
    "#     # Pass the sample through the model\n",
    "#     output = model(sample_tensor)\n",
    "#     return output"
   ]
  },
  {
   "cell_type": "code",
   "execution_count": 7,
   "metadata": {},
   "outputs": [],
   "source": [
    "# one_sample = ds[\"Hello\"][\"Left\"][0]"
   ]
  },
  {
   "cell_type": "code",
   "execution_count": 8,
   "metadata": {},
   "outputs": [],
   "source": [
    "# pass_sample_through_model(model, one_sample)"
   ]
  },
  {
   "cell_type": "code",
   "execution_count": 9,
   "metadata": {},
   "outputs": [],
   "source": [
    "import torch\n",
    "\n",
    "def train_model(model, train_loader, test_loader, criterion, optimizer, num_epochs=100):\n",
    "    \"\"\"\n",
    "    Trains the model and tests it every 25 epochs.\n",
    "    \n",
    "    Args:\n",
    "        model (torch.nn.Module): The neural network to train.\n",
    "        train_loader (DataLoader): DataLoader for training data.\n",
    "        test_loader (DataLoader): DataLoader for test data.\n",
    "        criterion (loss function): Loss function.\n",
    "        optimizer (torch.optim.Optimizer): Optimizer.\n",
    "        num_epochs (int): Number of training epochs.\n",
    "    \"\"\"\n",
    "    for epoch in range(num_epochs):\n",
    "        model.train()  # Ensure model is in training mode\n",
    "        running_loss = 0.0\n",
    "        \n",
    "        for inputs, labels in train_loader:\n",
    "            optimizer.zero_grad()  # Zero the parameter gradients\n",
    "            outputs = model(inputs)  # Forward pass\n",
    "            loss = criterion(outputs, labels)  # Compute loss\n",
    "            loss.backward()  # Backward pass\n",
    "            optimizer.step()  # Update weights\n",
    "            \n",
    "            running_loss += loss.item() * inputs.size(0)\n",
    "        \n",
    "        epoch_loss = running_loss / len(train_loader.dataset)\n",
    "        \n",
    "        # Print loss and evaluate model every 25 epochs (or at the final epoch)\n",
    "        if (epoch + 1) % 1 == 0 or (epoch + 1) == num_epochs:\n",
    "            print(f'Epoch [{epoch + 1}/{num_epochs}], Loss: {epoch_loss:.4f}')\n",
    "            test_model(model, test_loader)\n",
    "\n",
    "def test_model(model, test_loader):\n",
    "    \"\"\"\n",
    "    Evaluates the model on test data and prints the accuracy.\n",
    "    \n",
    "    Args:\n",
    "        model (torch.nn.Module): The neural network to evaluate.\n",
    "        test_loader (DataLoader): DataLoader for test data.\n",
    "    \"\"\"\n",
    "    model.eval()  # Set model to evaluation mode\n",
    "    correct = 0\n",
    "    total = 0\n",
    "    \n",
    "    with torch.no_grad():  # Disable gradient computation\n",
    "        for inputs, labels in test_loader:\n",
    "            outputs = model(inputs)\n",
    "            _, predicted = torch.max(outputs.data, 1)\n",
    "            total += labels.size(0)\n",
    "            correct += (predicted == labels).sum().item()\n",
    "    \n",
    "    accuracy = 100 * correct / total\n",
    "    print(f'Accuracy: {accuracy:.2f}%')\n"
   ]
  },
  {
   "cell_type": "code",
   "execution_count": 10,
   "metadata": {},
   "outputs": [
    {
     "name": "stdout",
     "output_type": "stream",
     "text": [
      "Accuracy: 11.06%\n",
      "Epoch [1/50], Loss: 2.2725\n",
      "Accuracy: 45.73%\n",
      "Epoch [2/50], Loss: 2.1355\n",
      "Accuracy: 60.30%\n",
      "Epoch [3/50], Loss: 1.9482\n",
      "Accuracy: 68.34%\n",
      "Epoch [4/50], Loss: 1.6795\n",
      "Accuracy: 74.37%\n",
      "Epoch [5/50], Loss: 1.3693\n",
      "Accuracy: 74.37%\n",
      "Epoch [6/50], Loss: 1.0830\n",
      "Accuracy: 77.89%\n",
      "Epoch [7/50], Loss: 0.8562\n",
      "Accuracy: 87.44%\n",
      "Epoch [8/50], Loss: 0.7001\n",
      "Accuracy: 87.44%\n",
      "Epoch [9/50], Loss: 0.5710\n",
      "Accuracy: 90.95%\n",
      "Epoch [10/50], Loss: 0.4676\n",
      "Accuracy: 89.95%\n",
      "Epoch [11/50], Loss: 0.3814\n",
      "Accuracy: 94.47%\n",
      "Epoch [12/50], Loss: 0.3182\n",
      "Accuracy: 94.97%\n",
      "Epoch [13/50], Loss: 0.2826\n",
      "Accuracy: 95.48%\n",
      "Epoch [14/50], Loss: 0.2397\n",
      "Accuracy: 95.98%\n",
      "Epoch [15/50], Loss: 0.2045\n",
      "Accuracy: 97.99%\n",
      "Epoch [16/50], Loss: 0.1810\n",
      "Accuracy: 98.49%\n",
      "Epoch [17/50], Loss: 0.1548\n",
      "Accuracy: 98.49%\n",
      "Epoch [18/50], Loss: 0.1392\n",
      "Accuracy: 99.50%\n",
      "Epoch [19/50], Loss: 0.1233\n",
      "Accuracy: 100.00%\n",
      "Epoch [20/50], Loss: 0.1021\n",
      "Accuracy: 100.00%\n",
      "Epoch [21/50], Loss: 0.0882\n",
      "Accuracy: 100.00%\n",
      "Epoch [22/50], Loss: 0.0778\n",
      "Accuracy: 100.00%\n",
      "Epoch [23/50], Loss: 0.0673\n",
      "Accuracy: 100.00%\n",
      "Epoch [24/50], Loss: 0.0623\n",
      "Accuracy: 100.00%\n",
      "Epoch [25/50], Loss: 0.0524\n",
      "Accuracy: 100.00%\n",
      "Epoch [26/50], Loss: 0.0484\n",
      "Accuracy: 100.00%\n",
      "Epoch [27/50], Loss: 0.0441\n",
      "Accuracy: 100.00%\n",
      "Epoch [28/50], Loss: 0.0411\n",
      "Accuracy: 100.00%\n",
      "Epoch [29/50], Loss: 0.0362\n",
      "Accuracy: 100.00%\n",
      "Epoch [30/50], Loss: 0.0341\n",
      "Accuracy: 100.00%\n",
      "Epoch [31/50], Loss: 0.0302\n",
      "Accuracy: 100.00%\n",
      "Epoch [32/50], Loss: 0.0268\n",
      "Accuracy: 100.00%\n",
      "Epoch [33/50], Loss: 0.0247\n",
      "Accuracy: 100.00%\n",
      "Epoch [34/50], Loss: 0.0231\n",
      "Accuracy: 100.00%\n",
      "Epoch [35/50], Loss: 0.0224\n",
      "Accuracy: 100.00%\n",
      "Epoch [36/50], Loss: 0.0206\n",
      "Accuracy: 100.00%\n",
      "Epoch [37/50], Loss: 0.0185\n",
      "Accuracy: 100.00%\n",
      "Epoch [38/50], Loss: 0.0173\n",
      "Accuracy: 100.00%\n",
      "Epoch [39/50], Loss: 0.0160\n",
      "Accuracy: 100.00%\n",
      "Epoch [40/50], Loss: 0.0155\n",
      "Accuracy: 100.00%\n",
      "Epoch [41/50], Loss: 0.0150\n",
      "Accuracy: 100.00%\n",
      "Epoch [42/50], Loss: 0.0134\n",
      "Accuracy: 100.00%\n",
      "Epoch [43/50], Loss: 0.0130\n",
      "Accuracy: 100.00%\n",
      "Epoch [44/50], Loss: 0.0125\n",
      "Accuracy: 100.00%\n",
      "Epoch [45/50], Loss: 0.0115\n",
      "Accuracy: 100.00%\n",
      "Epoch [46/50], Loss: 0.0108\n",
      "Accuracy: 100.00%\n",
      "Epoch [47/50], Loss: 0.0105\n",
      "Accuracy: 100.00%\n",
      "Epoch [48/50], Loss: 0.0099\n",
      "Accuracy: 100.00%\n",
      "Epoch [49/50], Loss: 0.0095\n",
      "Accuracy: 100.00%\n",
      "Epoch [50/50], Loss: 0.0088\n",
      "Accuracy: 100.00%\n",
      "Accuracy: 100.00%\n"
     ]
    }
   ],
   "source": [
    "# CrossEntropy Loss and Adam optimizer\n",
    "# def get_dataloader(dataset_path, batch_size=32, shuffle=True, num_workers=0, transform=None):\n",
    "batch_size = 32\n",
    "num_epochs = 50\n",
    "criterion = nn.CrossEntropyLoss()\n",
    "dataloader = get_dataloader(path, batch_size=batch_size, shuffle=True, num_workers=0)\n",
    "\n",
    "model = ThreeLayerMLP()\n",
    "\n",
    "optimizer = torch.optim.Adam(model.parameters(), lr=0.001)\n",
    "\n",
    "test_model(model, dataloader)\n",
    "train_model(model, dataloader, dataloader, criterion, optimizer, num_epochs=num_epochs)\n",
    "test_model(model, dataloader)"
   ]
  },
  {
   "cell_type": "code",
   "execution_count": 11,
   "metadata": {},
   "outputs": [
    {
     "name": "stdout",
     "output_type": "stream",
     "text": [
      "Accuracy: 10.05%\n"
     ]
    },
    {
     "ename": "TypeError",
     "evalue": "train_model() missing 1 required positional argument: 'optimizer'",
     "output_type": "error",
     "traceback": [
      "\u001b[31m---------------------------------------------------------------------------\u001b[39m",
      "\u001b[31mTypeError\u001b[39m                                 Traceback (most recent call last)",
      "\u001b[36mCell\u001b[39m\u001b[36m \u001b[39m\u001b[32mIn[11]\u001b[39m\u001b[32m, line 4\u001b[39m\n\u001b[32m      1\u001b[39m model = ThreeLayerMLP() \n\u001b[32m      3\u001b[39m test_model(model, dataloader)\n\u001b[32m----> \u001b[39m\u001b[32m4\u001b[39m \u001b[43mtrain_model\u001b[49m\u001b[43m(\u001b[49m\u001b[43mmodel\u001b[49m\u001b[43m,\u001b[49m\u001b[43m \u001b[49m\u001b[43mdataloader\u001b[49m\u001b[43m,\u001b[49m\u001b[43m \u001b[49m\u001b[43mcriterion\u001b[49m\u001b[43m,\u001b[49m\u001b[43m \u001b[49m\u001b[43moptimizer\u001b[49m\u001b[43m,\u001b[49m\u001b[43m \u001b[49m\u001b[43mnum_epochs\u001b[49m\u001b[43m=\u001b[49m\u001b[43mnum_epochs\u001b[49m\u001b[43m)\u001b[49m\n\u001b[32m      5\u001b[39m test_model(model, dataloader)\n",
      "\u001b[31mTypeError\u001b[39m: train_model() missing 1 required positional argument: 'optimizer'"
     ]
    }
   ],
   "source": [
    "model = ThreeLayerMLP() \n",
    "\n",
    "test_model(model, dataloader)\n",
    "train_model(model, dataloader, criterion, optimizer, num_epochs=num_epochs)\n",
    "test_model(model, dataloader)"
   ]
  },
  {
   "cell_type": "code",
   "execution_count": 12,
   "metadata": {},
   "outputs": [
    {
     "name": "stdout",
     "output_type": "stream",
     "text": [
      "Accuracy: 10.05%\n"
     ]
    }
   ],
   "source": [
    "test_model(model, dataloader)"
   ]
  },
  {
   "cell_type": "code",
   "execution_count": null,
   "metadata": {},
   "outputs": [],
   "source": []
  }
 ],
 "metadata": {
  "kernelspec": {
   "display_name": "venv",
   "language": "python",
   "name": "python3"
  },
  "language_info": {
   "codemirror_mode": {
    "name": "ipython",
    "version": 3
   },
   "file_extension": ".py",
   "mimetype": "text/x-python",
   "name": "python",
   "nbconvert_exporter": "python",
   "pygments_lexer": "ipython3",
   "version": "3.13.0"
  }
 },
 "nbformat": 4,
 "nbformat_minor": 2
}
